{
 "cells": [
  {
   "cell_type": "code",
   "execution_count": null,
   "metadata": {},
   "outputs": [],
   "source": []
  },
  {
   "cell_type": "code",
   "execution_count": 2,
   "metadata": {},
   "outputs": [],
   "source": [
    "import tensorflow as tf\n",
    "tf.keras.datasets.mnist.load_data(path=\"mnist.npz\")\n",
    "mnist = tf.keras.datasets.mnist"
   ]
  },
  {
   "cell_type": "code",
   "execution_count": 3,
   "metadata": {},
   "outputs": [],
   "source": [
    "(x_train, y_train),(x_test, y_test) = mnist.load_data() #28x28 sized images ranging 0-9"
   ]
  },
  {
   "cell_type": "code",
   "execution_count": 3,
   "metadata": {},
   "outputs": [
    {
     "data": {
      "text/plain": [
       "(60000, 28, 28)"
      ]
     },
     "execution_count": 3,
     "metadata": {},
     "output_type": "execute_result"
    }
   ],
   "source": [
    "x_train.shape \n",
    "# y_train.shape\n",
    "# x_test.shape\n",
    "# y_test.shape\n"
   ]
  },
  {
   "cell_type": "code",
   "execution_count": 4,
   "metadata": {},
   "outputs": [
    {
     "data": {
      "image/png": "[encoded data removed]",
      "text/plain": [
       "<Figure size 432x288 with 1 Axes>"
      ]
     },
     "metadata": {
      "needs_background": "light"
     },
     "output_type": "display_data"
    },
    {
     "data": {
      "text/plain": [
       "<matplotlib.image.AxesImage at 0x7fe67e1e83d0>"
      ]
     },
     "execution_count": 4,
     "metadata": {},
     "output_type": "execute_result"
    },
    {
     "data": {
      "image/png": "[encoded data removed]",
      "text/plain": [
       "<Figure size 432x288 with 1 Axes>"
      ]
     },
     "metadata": {
      "needs_background": "light"
     },
     "output_type": "display_data"
    }
   ],
   "source": [
    "import matplotlib.pyplot as plt\n",
    "plt.imshow(x_train[2])\n",
    "plt.show()\n",
    "plt.imshow(x_train[2],cmap=plt.cm.binary) #inverted"
   ]
  },
  {
   "cell_type": "code",
   "execution_count": 5,
   "metadata": {},
   "outputs": [
    {
     "name": "stdout",
     "output_type": "stream",
     "text": [
      "[[  0   0   0   0   0   0   0   0   0   0   0   0   0   0   0   0   0   0\n",
      "    0   0   0   0   0   0   0   0   0   0]\n",
      " [  0   0   0   0   0   0   0   0   0   0   0   0   0   0   0   0   0   0\n",
      "    0   0   0   0   0   0   0   0   0   0]\n",
      " [  0   0   0   0   0   0   0   0   0   0   0   0   0   0   0   0   0   0\n",
      "    0   0   0   0   0   0   0   0   0   0]\n",
      " [  0   0   0   0   0   0   0   0   0   0   0   0   0   0   0   0   0   0\n",
      "    0   0   0   0   0   0   0   0   0   0]\n",
      " [  0   0   0   0   0   0   0   0   0   0   0   0   0   0   0   0   0   0\n",
      "    0   0   0   0   0   0   0   0   0   0]\n",
      " [  0   0   0   0   0   0   0   0   0   0   0   0   0   0   0   0   0   0\n",
      "    0   0  67 232  39   0   0   0   0   0]\n",
      " [  0   0   0   0  62  81   0   0   0   0   0   0   0   0   0   0   0   0\n",
      "    0   0 120 180  39   0   0   0   0   0]\n",
      " [  0   0   0   0 126 163   0   0   0   0   0   0   0   0   0   0   0   0\n",
      "    0   2 153 210  40   0   0   0   0   0]\n",
      " [  0   0   0   0 220 163   0   0   0   0   0   0   0   0   0   0   0   0\n",
      "    0  27 254 162   0   0   0   0   0   0]\n",
      " [  0   0   0   0 222 163   0   0   0   0   0   0   0   0   0   0   0   0\n",
      "    0 183 254 125   0   0   0   0   0   0]\n",
      " [  0   0   0  46 245 163   0   0   0   0   0   0   0   0   0   0   0   0\n",
      "    0 198 254  56   0   0   0   0   0   0]\n",
      " [  0   0   0 120 254 163   0   0   0   0   0   0   0   0   0   0   0   0\n",
      "   23 231 254  29   0   0   0   0   0   0]\n",
      " [  0   0   0 159 254 120   0   0   0   0   0   0   0   0   0   0   0   0\n",
      "  163 254 216  16   0   0   0   0   0   0]\n",
      " [  0   0   0 159 254  67   0   0   0   0   0   0   0   0   0  14  86 178\n",
      "  248 254  91   0   0   0   0   0   0   0]\n",
      " [  0   0   0 159 254  85   0   0   0  47  49 116 144 150 241 243 234 179\n",
      "  241 252  40   0   0   0   0   0   0   0]\n",
      " [  0   0   0 150 253 237 207 207 207 253 254 250 240 198 143  91  28   5\n",
      "  233 250   0   0   0   0   0   0   0   0]\n",
      " [  0   0   0   0 119 177 177 177 177 177  98  56   0   0   0   0   0 102\n",
      "  254 220   0   0   0   0   0   0   0   0]\n",
      " [  0   0   0   0   0   0   0   0   0   0   0   0   0   0   0   0   0 169\n",
      "  254 137   0   0   0   0   0   0   0   0]\n",
      " [  0   0   0   0   0   0   0   0   0   0   0   0   0   0   0   0   0 169\n",
      "  254  57   0   0   0   0   0   0   0   0]\n",
      " [  0   0   0   0   0   0   0   0   0   0   0   0   0   0   0   0   0 169\n",
      "  254  57   0   0   0   0   0   0   0   0]\n",
      " [  0   0   0   0   0   0   0   0   0   0   0   0   0   0   0   0   0 169\n",
      "  255  94   0   0   0   0   0   0   0   0]\n",
      " [  0   0   0   0   0   0   0   0   0   0   0   0   0   0   0   0   0 169\n",
      "  254  96   0   0   0   0   0   0   0   0]\n",
      " [  0   0   0   0   0   0   0   0   0   0   0   0   0   0   0   0   0 169\n",
      "  254 153   0   0   0   0   0   0   0   0]\n",
      " [  0   0   0   0   0   0   0   0   0   0   0   0   0   0   0   0   0 169\n",
      "  255 153   0   0   0   0   0   0   0   0]\n",
      " [  0   0   0   0   0   0   0   0   0   0   0   0   0   0   0   0   0  96\n",
      "  254 153   0   0   0   0   0   0   0   0]\n",
      " [  0   0   0   0   0   0   0   0   0   0   0   0   0   0   0   0   0   0\n",
      "    0   0   0   0   0   0   0   0   0   0]\n",
      " [  0   0   0   0   0   0   0   0   0   0   0   0   0   0   0   0   0   0\n",
      "    0   0   0   0   0   0   0   0   0   0]\n",
      " [  0   0   0   0   0   0   0   0   0   0   0   0   0   0   0   0   0   0\n",
      "    0   0   0   0   0   0   0   0   0   0]]\n"
     ]
    }
   ],
   "source": [
    "print(x_train[2]) #bg pixels are 0(before inversion values), only digit pixels >0    "
   ]
  },
  {
   "cell_type": "code",
   "execution_count": 6,
   "metadata": {},
   "outputs": [],
   "source": [
    "#in order to train, need to normalize \n",
    "x_train = tf.keras.utils.normalize(x_train, axis=1)\n",
    "x_test = tf.keras.utils.normalize(x_test, axis=1)"
   ]
  },
  {
   "cell_type": "code",
   "execution_count": 7,
   "metadata": {},
   "outputs": [
    {
     "data": {
      "image/png": "[encoded data removed]",
      "text/plain": [
       "<Figure size 432x288 with 1 Axes>"
      ]
     },
     "metadata": {
      "needs_background": "light"
     },
     "output_type": "display_data"
    },
    {
     "data": {
      "text/plain": [
       "<matplotlib.image.AxesImage at 0x7fe63725ea00>"
      ]
     },
     "execution_count": 7,
     "metadata": {},
     "output_type": "execute_result"
    },
    {
     "data": {
      "image/png": "[encoded data removed]",
      "text/plain": [
       "<Figure size 432x288 with 1 Axes>"
      ]
     },
     "metadata": {
      "needs_background": "light"
     },
     "output_type": "display_data"
    }
   ],
   "source": [
    "import matplotlib.pyplot as plt\n",
    "plt.imshow(x_train[2])\n",
    "plt.show() \n",
    "plt.imshow(x_train[2],cmap=plt.cm.binary)"
   ]
  },
  {
   "cell_type": "code",
   "execution_count": 8,
   "metadata": {},
   "outputs": [
    {
     "name": "stdout",
     "output_type": "stream",
     "text": [
      "[[0.         0.         0.         0.         0.         0.\n",
      "  0.         0.         0.         0.         0.         0.\n",
      "  0.         0.         0.         0.         0.         0.\n",
      "  0.         0.         0.         0.         0.         0.\n",
      "  0.         0.         0.         0.        ]\n",
      " [0.         0.         0.         0.         0.         0.\n",
      "  0.         0.         0.         0.         0.         0.\n",
      "  0.         0.         0.         0.         0.         0.\n",
      "  0.         0.         0.         0.         0.         0.\n",
      "  0.         0.         0.         0.        ]\n",
      " [0.         0.         0.         0.         0.         0.\n",
      "  0.         0.         0.         0.         0.         0.\n",
      "  0.         0.         0.         0.         0.         0.\n",
      "  0.         0.         0.         0.         0.         0.\n",
      "  0.         0.         0.         0.        ]\n",
      " [0.         0.         0.         0.         0.         0.\n",
      "  0.         0.         0.         0.         0.         0.\n",
      "  0.         0.         0.         0.         0.         0.\n",
      "  0.         0.         0.         0.         0.         0.\n",
      "  0.         0.         0.         0.        ]\n",
      " [0.         0.         0.         0.         0.         0.\n",
      "  0.         0.         0.         0.         0.         0.\n",
      "  0.         0.         0.         0.         0.         0.\n",
      "  0.         0.         0.         0.         0.         0.\n",
      "  0.         0.         0.         0.        ]\n",
      " [0.         0.         0.         0.         0.         0.\n",
      "  0.         0.         0.         0.         0.         0.\n",
      "  0.         0.         0.         0.         0.         0.\n",
      "  0.         0.         0.11215074 0.55234025 0.57241636 0.\n",
      "  0.         0.         0.         0.        ]\n",
      " [0.         0.         0.         0.         0.08650726 0.16103093\n",
      "  0.         0.         0.         0.         0.         0.\n",
      "  0.         0.         0.         0.         0.         0.\n",
      "  0.         0.         0.20086699 0.42853985 0.57241636 0.\n",
      "  0.         0.         0.         0.        ]\n",
      " [0.         0.         0.         0.         0.17580507 0.3240499\n",
      "  0.         0.         0.         0.         0.         0.\n",
      "  0.         0.         0.         0.         0.         0.\n",
      "  0.         0.00271221 0.25610542 0.49996316 0.5870937  0.\n",
      "  0.         0.         0.         0.        ]\n",
      " [0.         0.         0.         0.         0.30696124 0.3240499\n",
      "  0.         0.         0.         0.         0.         0.\n",
      "  0.         0.         0.         0.         0.         0.\n",
      "  0.         0.03661479 0.42516847 0.38568586 0.         0.\n",
      "  0.         0.         0.         0.        ]\n",
      " [0.         0.         0.         0.         0.3097518  0.3240499\n",
      "  0.         0.         0.         0.         0.         0.\n",
      "  0.         0.         0.         0.         0.         0.\n",
      "  0.         0.24816691 0.42516847 0.29759712 0.         0.\n",
      "  0.         0.         0.         0.        ]\n",
      " [0.         0.         0.         0.13572983 0.3418432  0.3240499\n",
      "  0.         0.         0.         0.         0.         0.\n",
      "  0.         0.         0.         0.         0.         0.\n",
      "  0.         0.26850846 0.42516847 0.13332351 0.         0.\n",
      "  0.         0.         0.         0.        ]\n",
      " [0.         0.         0.         0.35407783 0.3544007  0.3240499\n",
      "  0.         0.         0.         0.         0.         0.\n",
      "  0.         0.         0.         0.         0.         0.\n",
      "  0.02599851 0.31325987 0.42516847 0.06904253 0.         0.\n",
      "  0.         0.         0.         0.        ]\n",
      " [0.         0.         0.         0.46915312 0.3544007  0.23856435\n",
      "  0.         0.         0.         0.         0.         0.\n",
      "  0.         0.         0.         0.         0.         0.\n",
      "  0.18425032 0.34445024 0.36156059 0.03809243 0.         0.\n",
      "  0.         0.         0.         0.        ]\n",
      " [0.         0.         0.         0.46915312 0.3544007  0.13319843\n",
      "  0.         0.         0.         0.         0.         0.\n",
      "  0.         0.         0.         0.05387565 0.34280637 0.33442521\n",
      "  0.28033177 0.34445024 0.15232414 0.         0.         0.\n",
      "  0.         0.         0.         0.        ]\n",
      " [0.         0.         0.         0.46915312 0.3544007  0.16898308\n",
      "  0.         0.         0.         0.1504842  0.17713556 0.41246938\n",
      "  0.51449576 0.60385769 0.86000157 0.93512735 0.93275221 0.33630401\n",
      "  0.27241918 0.34173804 0.06695566 0.         0.         0.\n",
      "  0.         0.         0.         0.        ]\n",
      " [0.         0.         0.         0.44259728 0.35300542 0.47116458\n",
      "  0.76003359 0.76003359 0.76003359 0.81005324 0.91821292 0.88894262\n",
      "  0.85749293 0.79709215 0.51029139 0.35019173 0.11161138 0.00939397\n",
      "  0.26337622 0.33902583 0.         0.         0.         0.\n",
      "  0.         0.         0.         0.        ]\n",
      " [0.         0.         0.         0.         0.16603812 0.35188241\n",
      "  0.64988379 0.64988379 0.64988379 0.56671709 0.35427113 0.19912315\n",
      "  0.         0.         0.         0.         0.         0.19163692\n",
      "  0.28711399 0.29834273 0.         0.         0.         0.\n",
      "  0.         0.         0.         0.        ]\n",
      " [0.         0.         0.         0.         0.         0.\n",
      "  0.         0.         0.         0.         0.         0.\n",
      "  0.         0.         0.         0.         0.         0.31751607\n",
      "  0.28711399 0.18578615 0.         0.         0.         0.\n",
      "  0.         0.         0.         0.        ]\n",
      " [0.         0.         0.         0.         0.         0.\n",
      "  0.         0.         0.         0.         0.         0.\n",
      "  0.         0.         0.         0.         0.         0.31751607\n",
      "  0.28711399 0.07729789 0.         0.         0.         0.\n",
      "  0.         0.         0.         0.        ]\n",
      " [0.         0.         0.         0.         0.         0.\n",
      "  0.         0.         0.         0.         0.         0.\n",
      "  0.         0.         0.         0.         0.         0.31751607\n",
      "  0.28711399 0.07729789 0.         0.         0.         0.\n",
      "  0.         0.         0.         0.        ]\n",
      " [0.         0.         0.         0.         0.         0.\n",
      "  0.         0.         0.         0.         0.         0.\n",
      "  0.         0.         0.         0.         0.         0.31751607\n",
      "  0.28824436 0.12747371 0.         0.         0.         0.\n",
      "  0.         0.         0.         0.        ]\n",
      " [0.         0.         0.         0.         0.         0.\n",
      "  0.         0.         0.         0.         0.         0.\n",
      "  0.         0.         0.         0.         0.         0.31751607\n",
      "  0.28711399 0.13018592 0.         0.         0.         0.\n",
      "  0.         0.         0.         0.        ]\n",
      " [0.         0.         0.         0.         0.         0.\n",
      "  0.         0.         0.         0.         0.         0.\n",
      "  0.         0.         0.         0.         0.         0.31751607\n",
      "  0.28711399 0.20748381 0.         0.         0.         0.\n",
      "  0.         0.         0.         0.        ]\n",
      " [0.         0.         0.         0.         0.         0.\n",
      "  0.         0.         0.         0.         0.         0.\n",
      "  0.         0.         0.         0.         0.         0.31751607\n",
      "  0.28824436 0.20748381 0.         0.         0.         0.\n",
      "  0.         0.         0.         0.        ]\n",
      " [0.         0.         0.         0.         0.         0.\n",
      "  0.         0.         0.         0.         0.         0.\n",
      "  0.         0.         0.         0.         0.         0.18036416\n",
      "  0.28711399 0.20748381 0.         0.         0.         0.\n",
      "  0.         0.         0.         0.        ]\n",
      " [0.         0.         0.         0.         0.         0.\n",
      "  0.         0.         0.         0.         0.         0.\n",
      "  0.         0.         0.         0.         0.         0.\n",
      "  0.         0.         0.         0.         0.         0.\n",
      "  0.         0.         0.         0.        ]\n",
      " [0.         0.         0.         0.         0.         0.\n",
      "  0.         0.         0.         0.         0.         0.\n",
      "  0.         0.         0.         0.         0.         0.\n",
      "  0.         0.         0.         0.         0.         0.\n",
      "  0.         0.         0.         0.        ]\n",
      " [0.         0.         0.         0.         0.         0.\n",
      "  0.         0.         0.         0.         0.         0.\n",
      "  0.         0.         0.         0.         0.         0.\n",
      "  0.         0.         0.         0.         0.         0.\n",
      "  0.         0.         0.         0.        ]]\n"
     ]
    }
   ],
   "source": [
    "print(x_train[2]) #all values normalized to 0-1 because of /255"
   ]
  },
  {
   "cell_type": "code",
   "execution_count": 9,
   "metadata": {},
   "outputs": [
    {
     "name": "stdout",
     "output_type": "stream",
     "text": [
      "4\n"
     ]
    }
   ],
   "source": [
    "print(y_train[2])"
   ]
  },
  {
   "cell_type": "code",
   "execution_count": 10,
   "metadata": {},
   "outputs": [
    {
     "name": "stdout",
     "output_type": "stream",
     "text": [
      "Training samples dimension:  (60000, 28, 28, 1)\n",
      "Testing samples dimension:  (10000, 28, 28, 1)\n"
     ]
    }
   ],
   "source": [
    "import numpy as np\n",
    "IMG_SIZE = 28\n",
    "#increasing one dimension for kernel operation, resizing to make it suitable for convolution operation//             n+2p-f+1\n",
    "x_trainr = np.array(x_train).reshape(-1, IMG_SIZE, IMG_SIZE, 1) #-1 corresponds to 60,000, [60000x28x28x1]\n",
    "x_testr = np.array(x_test).reshape(-1, IMG_SIZE, IMG_SIZE, 1)\n",
    "print(\"Training samples dimension: \",x_trainr.shape)\n",
    "print(\"Testing samples dimension: \",x_testr.shape)"
   ]
  },
  {
   "cell_type": "code",
   "execution_count": 11,
   "metadata": {},
   "outputs": [],
   "source": [
    "from tensorflow.keras.models import Sequential\n",
    "from tensorflow.keras.layers import Dense,Dropout,Activation,Flatten,Conv2D,MaxPooling2D\n",
    "from tensorflow.keras.preprocessing.image import ImageDataGenerator\n",
    "from tensorflow.keras.callbacks import ModelCheckpoint\n",
    "from tensorflow.keras.optimizers import Adam, SGD\n",
    "from tensorflow.keras.regularizers import l2"
   ]
  },
  {
   "cell_type": "code",
   "execution_count": 12,
   "metadata": {},
   "outputs": [],
   "source": [
    "datagen = ImageDataGenerator(\n",
    "    featurewise_center=False,  # set input mean to 0 over the dataset\n",
    "    samplewise_center=False,  # set each sample mean to 0\n",
    "    featurewise_std_normalization=False,  # divide inputs by std of the dataset\n",
    "    samplewise_std_normalization=False,  # divide each input by its std\n",
    "    zca_whitening=False,  # apply ZCA whitening\n",
    "    rotation_range=10,  # randomly rotate images in the range (degrees, 0 to 180)\n",
    "#     width_shift_range=0.2,  # randomly shift images horizontally (fraction of total width)\n",
    "#     height_shift_range=0.2,  # randomly shift images vertically (fraction of total height)\n",
    "    horizontal_flip=False,  # randomly flip images\n",
    "    vertical_flip=False)  # randomly flip images\n",
    "\n",
    "datagen.fit(x_trainr)"
   ]
  },
  {
   "cell_type": "code",
   "execution_count": null,
   "metadata": {},
   "outputs": [],
   "source": []
  },
  {
   "cell_type": "code",
   "execution_count": 13,
   "metadata": {},
   "outputs": [],
   "source": [
    "model = Sequential()\n",
    "\n",
    "#First Convolution Layer\n",
    "model.add(Conv2D(64,(3,3),input_shape=x_trainr.shape[1:],kernel_regularizer=l2(0.01),bias_regularizer=l2(0.01))) \n",
    "#only for first convolution need to mention\n",
    "#slicing because (60,000,28,28,1)// we dont need 60000, iterating one by one\n",
    "model.add(Activation(\"relu\")) \n",
    "#activation function- to make it non linear[value<0 drop| value>0 allow to second layer] , 64 kernels/filters of 3x3 size\n",
    "model.add(MaxPooling2D(pool_size=(2,2)))#maxpooling [single max value of 2x2 kernel]\n",
    "\n",
    "#size becomes 28-3+1=26x26 / n-f+1\n",
    "\n",
    "#Second Convolution Layer\n",
    "model.add(Conv2D(64,(3,3)))\n",
    "model.add(Activation(\"relu\"))\n",
    "model.add(MaxPooling2D(pool_size=(2,2)))\n",
    "\n",
    "\n",
    "\n",
    "#Third Convolution Layer\n",
    "model.add(Conv2D(64,(3,3)))\n",
    "model.add(Activation(\"relu\"))\n",
    "model.add(MaxPooling2D(pool_size=(2,2)))\n",
    "\n",
    "\n",
    "model.add(Flatten())\n",
    "#before moving to fully connected layer we need to flatten 2D to 1D | 20x20=400\n",
    "\n",
    "model.add(Dense(64)) #neural network layer\n",
    "model.add(Activation(\"relu\"))\n",
    "\n",
    "model.add(Dense(32))\n",
    "model.add(Activation(\"relu\"))\n",
    "\n",
    "#last fully connected layer\n",
    "model.add(Dense(10)) #must be equal to 10 becaue of the number of classes (0-9)\n",
    "model.add(Activation(\" x\")) #activation function noe changed to softmax (class probabilities)"
   ]
  },
  {
   "cell_type": "code",
   "execution_count": null,
   "metadata": {},
   "outputs": [],
   "source": []
  },
  {
   "cell_type": "code",
   "execution_count": 14,
   "metadata": {},
   "outputs": [
    {
     "name": "stdout",
     "output_type": "stream",
     "text": [
      "Model: \"sequential\"\n",
      "_________________________________________________________________\n",
      "Layer (type)                 Output Shape              Param #   \n",
      "=================================================================\n",
      "conv2d (Conv2D)              (None, 26, 26, 64)        640       \n",
      "_________________________________________________________________\n",
      "activation (Activation)      (None, 26, 26, 64)        0         \n",
      "_________________________________________________________________\n",
      "max_pooling2d (MaxPooling2D) (None, 13, 13, 64)        0         \n",
      "_________________________________________________________________\n",
      "conv2d_1 (Conv2D)            (None, 11, 11, 64)        36928     \n",
      "_________________________________________________________________\n",
      "activation_1 (Activation)    (None, 11, 11, 64)        0         \n",
      "_________________________________________________________________\n",
      "max_pooling2d_1 (MaxPooling2 (None, 5, 5, 64)          0         \n",
      "_________________________________________________________________\n",
      "conv2d_2 (Conv2D)            (None, 3, 3, 64)          36928     \n",
      "_________________________________________________________________\n",
      "activation_2 (Activation)    (None, 3, 3, 64)          0         \n",
      "_________________________________________________________________\n",
      "max_pooling2d_2 (MaxPooling2 (None, 1, 1, 64)          0         \n",
      "_________________________________________________________________\n",
      "flatten (Flatten)            (None, 64)                0         \n",
      "_________________________________________________________________\n",
      "dense (Dense)                (None, 64)                4160      \n",
      "_________________________________________________________________\n",
      "activation_3 (Activation)    (None, 64)                0         \n",
      "_________________________________________________________________\n",
      "dense_1 (Dense)              (None, 32)                2080      \n",
      "_________________________________________________________________\n",
      "activation_4 (Activation)    (None, 32)                0         \n",
      "_________________________________________________________________\n",
      "dense_2 (Dense)              (None, 10)                330       \n",
      "_________________________________________________________________\n",
      "activation_5 (Activation)    (None, 10)                0         \n",
      "=================================================================\n",
      "Total params: 81,066\n",
      "Trainable params: 81,066\n",
      "Non-trainable params: 0\n",
      "_________________________________________________________________\n"
     ]
    }
   ],
   "source": [
    "model.summary()"
   ]
  },
  {
   "cell_type": "code",
   "execution_count": 15,
   "metadata": {},
   "outputs": [
    {
     "name": "stdout",
     "output_type": "stream",
     "text": [
      "Epoch 1/20\n",
      "1875/1875 [==============================] - 95s 50ms/step - loss: 0.6298 - accuracy: 0.7989\n",
      "Epoch 2/20\n",
      "1875/1875 [==============================] - 84s 45ms/step - loss: 0.1347 - accuracy: 0.9636\n",
      "Epoch 3/20\n",
      "1875/1875 [==============================] - 71s 38ms/step - loss: 0.0987 - accuracy: 0.9723\n",
      "Epoch 4/20\n",
      "1875/1875 [==============================] - 70s 37ms/step - loss: 0.0826 - accuracy: 0.9768\n",
      "Epoch 5/20\n",
      "1875/1875 [==============================] - 70s 37ms/step - loss: 0.0707 - accuracy: 0.9806\n",
      "Epoch 6/20\n",
      "1875/1875 [==============================] - 78s 42ms/step - loss: 0.0630 - accuracy: 0.9820\n",
      "Epoch 7/20\n",
      "1875/1875 [==============================] - 91s 49ms/step - loss: 0.0571 - accuracy: 0.9840\n",
      "Epoch 8/20\n",
      "1875/1875 [==============================] - 79s 42ms/step - loss: 0.0519 - accuracy: 0.9855\n",
      "Epoch 9/20\n",
      "1875/1875 [==============================] - 74s 40ms/step - loss: 0.0449 - accuracy: 0.9874\n",
      "Epoch 10/20\n",
      "1875/1875 [==============================] - 66s 35ms/step - loss: 0.0405 - accuracy: 0.9890\n",
      "Epoch 11/20\n",
      "1875/1875 [==============================] - 75s 40ms/step - loss: 0.0394 - accuracy: 0.9894\n",
      "Epoch 12/20\n",
      "1875/1875 [==============================] - 68s 36ms/step - loss: 0.0352 - accuracy: 0.9903\n",
      "Epoch 13/20\n",
      "1875/1875 [==============================] - 76s 40ms/step - loss: 0.0377 - accuracy: 0.9894\n",
      "Epoch 14/20\n",
      "1875/1875 [==============================] - 77s 41ms/step - loss: 0.0333 - accuracy: 0.9910\n",
      "Epoch 15/20\n",
      "1875/1875 [==============================] - 89s 47ms/step - loss: 0.0325 - accuracy: 0.9909\n",
      "Epoch 16/20\n",
      "1875/1875 [==============================] - 100s 54ms/step - loss: 0.0304 - accuracy: 0.9914\n",
      "Epoch 17/20\n",
      "1875/1875 [==============================] - 68s 36ms/step - loss: 0.0279 - accuracy: 0.9925\n",
      "Epoch 18/20\n",
      "1875/1875 [==============================] - 88s 47ms/step - loss: 0.0275 - accuracy: 0.9933\n",
      "Epoch 19/20\n",
      "1875/1875 [==============================] - 81s 43ms/step - loss: 0.0272 - accuracy: 0.9925\n",
      "Epoch 20/20\n",
      "1875/1875 [==============================] - 73s 39ms/step - loss: 0.0260 - accuracy: 0.9930\n"
     ]
    }
   ],
   "source": [
    "model.compile(loss=\"sparse_categorical_crossentropy\",optimizer=\"adam\",metrics=['accuracy'])\n",
    "history=model.fit(datagen.flow(x_trainr,y_train),epochs=20)"
   ]
  },
  {
   "cell_type": "code",
   "execution_count": 16,
   "metadata": {},
   "outputs": [
    {
     "name": "stdout",
     "output_type": "stream",
     "text": [
      "0.9052500128746033\n",
      "0.9933833479881287\n"
     ]
    }
   ],
   "source": [
    "print(min(history.history['accuracy']))\n",
    "\n",
    "print(max(history.history['accuracy']))"
   ]
  },
  {
   "cell_type": "code",
   "execution_count": null,
   "metadata": {},
   "outputs": [],
   "source": []
  },
  {
   "cell_type": "code",
   "execution_count": null,
   "metadata": {},
   "outputs": [],
   "source": []
  },
  {
   "cell_type": "code",
   "execution_count": 18,
   "metadata": {},
   "outputs": [
    {
     "name": "stdout",
     "output_type": "stream",
     "text": [
      "313/313 [==============================] - 3s 9ms/step - loss: 0.0502 - accuracy: 0.9882\n",
      "Test loss on 10,000 test samples:  0.05015218257904053\n",
      "Validation accuracy on 10,000 test samples:  0.9882000088691711\n"
     ]
    }
   ],
   "source": [
    "test_loss, test_acc = model.evaluate(x_testr,y_test)\n",
    "print(\"Test loss on 10,000 test samples: \",test_loss)\n",
    "print(\"Validation accuracy on 10,000 test samples: \",test_acc)"
   ]
  },
  {
   "cell_type": "code",
   "execution_count": null,
   "metadata": {},
   "outputs": [],
   "source": []
  },
  {
   "cell_type": "code",
   "execution_count": null,
   "metadata": {},
   "outputs": [],
   "source": []
  },
  {
   "cell_type": "code",
   "execution_count": 19,
   "metadata": {},
   "outputs": [],
   "source": [
    "prediction = model.predict([x_testr])"
   ]
  },
  {
   "cell_type": "code",
   "execution_count": 20,
   "metadata": {},
   "outputs": [
    {
     "name": "stdout",
     "output_type": "stream",
     "text": [
      "[[2.52116820e-07 5.41299687e-06 2.73736514e-05 ... 9.99945998e-01\n",
      "  2.82350697e-07 1.23176860e-05]\n",
      " [1.28619581e-06 1.09638040e-06 9.99996305e-01 ... 1.10046994e-08\n",
      "  1.05206857e-06 2.33449882e-08]\n",
      " [1.06640483e-08 9.99998450e-01 5.35030047e-08 ... 1.35633769e-07\n",
      "  6.82879943e-07 1.24051978e-08]\n",
      " ...\n",
      " [7.11699867e-15 7.01909711e-12 1.07613774e-13 ... 1.03448938e-09\n",
      "  1.36183265e-09 8.09855720e-08]\n",
      " [1.87766491e-12 4.25904049e-13 1.17642549e-12 ... 3.91728615e-13\n",
      "  1.97285233e-09 2.13790955e-07]\n",
      " [6.09230497e-08 5.43251444e-09 3.21273341e-09 ... 2.42207144e-12\n",
      "  1.41582404e-07 4.84363527e-09]]\n"
     ]
    }
   ],
   "source": [
    "print(prediction)"
   ]
  },
  {
   "cell_type": "code",
   "execution_count": null,
   "metadata": {},
   "outputs": [],
   "source": []
  },
  {
   "cell_type": "code",
   "execution_count": null,
   "metadata": {},
   "outputs": [],
   "source": []
  },
  {
   "cell_type": "code",
   "execution_count": 21,
   "metadata": {
    "scrolled": true
   },
   "outputs": [
    {
     "name": "stdout",
     "output_type": "stream",
     "text": [
      "PREDICTION:  9 IMAGE NAME:  colour/9rotate.png\n",
      "PREDICTION:  4 IMAGE NAME:  colour/4rotate.png\n",
      "PREDICTION:  0 IMAGE NAME:  colour/8hand.jpeg\n",
      "PREDICTION:  4 IMAGE NAME:  colour/4-color.png\n",
      "PREDICTION:  9 IMAGE NAME:  colour/9color.png\n",
      "PREDICTION:  3 IMAGE NAME:  colour/3-color.png\n",
      "PREDICTION:  2 IMAGE NAME:  colour/2scan.jpeg\n",
      "PREDICTION:  9 IMAGE NAME:  colour/9color (1).png\n",
      "PREDICTION:  7 IMAGE NAME:  colour/7color.png\n",
      "PREDICTION:  9 IMAGE NAME:  colour/6rotate.png\n",
      "PREDICTION:  9 IMAGE NAME:  colour/9rotate1.png\n",
      "PREDICTION:  7 IMAGE NAME:  colour/7color (1).png\n",
      "PREDICTION:  5 IMAGE NAME:  colour/5rule.jpeg\n"
     ]
    },
    {
     "data": {
      "image/png": "[encoded data removed]",
      "text/plain": [
       "<Figure size 432x288 with 1 Axes>"
      ]
     },
     "metadata": {
      "needs_background": "light"
     },
     "output_type": "display_data"
    }
   ],
   "source": [
    "#COLOUR\n",
    "import matplotlib.pyplot as plt\n",
    "from skimage import io\n",
    "import cv2\n",
    "from skimage import util\n",
    "import os\n",
    "\n",
    "\n",
    "for filename in os.listdir('colour'):\n",
    "    if filename.endswith(\".png\") or filename.endswith(\".jpg\") or filename.endswith(\".jpeg\"): \n",
    "        \n",
    "        pass\n",
    "    else:\n",
    "        continue\n",
    "    name=\"colour/\"\n",
    "    name+=filename\n",
    "    i=name\n",
    "\n",
    "\n",
    "\n",
    "\n",
    "\n",
    "    img = cv2.imread(i)\n",
    "    # plt.imshow(img) #ORIGINAL IMAGE\n",
    "    img1 = cv2.imread(i,cv2.IMREAD_GRAYSCALE)\n",
    "    average = img1.mean(axis=0).mean(axis=0)\n",
    "#     print(average)\n",
    "    # plt.imshow(img1) GRAYSCALED READ IMAGE\n",
    "    thresh = average\n",
    "    img_binary = cv2.threshold(img1, thresh, 255, cv2.THRESH_BINARY)[1]\n",
    "\n",
    "    cv2.imwrite('test_colour/test_c.png',img_binary) \n",
    "\n",
    "    img2=cv2.imread('test_colour/test_c.png')\n",
    "    # plt.imshow(img2) #BLACK AND WHITE\n",
    "    # print(img2)\n",
    "    unique_elements, counts_elements = np.unique(img2, return_counts=True)\n",
    "#     print(\"Frequency of unique values of the said array:\")\n",
    "#     print(np.asarray((unique_elements, counts_elements)))\n",
    "    d=dict(zip(unique_elements, counts_elements))\n",
    "#     print(d)\n",
    "\n",
    "    if(d[0]<d[255]):\n",
    "        img2 = util.invert(img2)\n",
    "    #     print(img2)\n",
    "    cv2.imwrite('test_colour/test_c.png',img2) \n",
    "   \n",
    "\n",
    "\n",
    "    gray2 = cv2.cvtColor(img2, cv2.COLOR_BGR2GRAY)\n",
    "\n",
    "    resized2 = cv2.resize(gray2, (28,28),interpolation = cv2.INTER_AREA)  \n",
    "    newimg2 = tf.keras.utils.normalize(resized2, axis=1)\n",
    "\n",
    "    newimg2 = np.array(newimg2).reshape(-1, IMG_SIZE, IMG_SIZE, 1)\n",
    "    predictions2 = model.predict(newimg2)\n",
    "#     plt.subplot(1,15,images.index(i)+1)\n",
    "    t=\"test_colour/\"\n",
    "    t+=filename\n",
    "    cv2.imwrite(t,img2) \n",
    "    plt.imshow(img2)\n",
    "\n",
    "    print(\"PREDICTION: \",np.argmax(predictions2),\"IMAGE NAME: \",i)\n",
    "    \n",
    "    # plt.imshow(resized2) #FINAL IMAGE\n",
    "\n",
    "\n",
    "\n"
   ]
  },
  {
   "cell_type": "code",
   "execution_count": 22,
   "metadata": {},
   "outputs": [
    {
     "name": "stdout",
     "output_type": "stream",
     "text": [
      "PREDICTION:  8 IMAGE NAME:  bw/8.png\n",
      "PREDICTION:  9 IMAGE NAME:  bw/9.png\n",
      "PREDICTION:  6 IMAGE NAME:  bw/4.png\n",
      "PREDICTION:  5 IMAGE NAME:  bw/5.png\n",
      "PREDICTION:  7 IMAGE NAME:  bw/7.png\n",
      "PREDICTION:  6 IMAGE NAME:  bw/6.png\n",
      "PREDICTION:  2 IMAGE NAME:  bw/2.png\n",
      "PREDICTION:  3 IMAGE NAME:  bw/3.png\n",
      "PREDICTION:  1 IMAGE NAME:  bw/1.png\n",
      "PREDICTION:  0 IMAGE NAME:  bw/0.png\n"
     ]
    },
    {
     "data": {
      "image/png": "[encoded data removed]",
      "text/plain": [
       "<Figure size 432x288 with 1 Axes>"
      ]
     },
     "metadata": {
      "needs_background": "light"
     },
     "output_type": "display_data"
    }
   ],
   "source": [
    "#BW\n",
    "import matplotlib.pyplot as plt\n",
    "from skimage import io\n",
    "import cv2\n",
    "from skimage import util\n",
    "import os\n",
    "\n",
    "\n",
    "for filename in os.listdir('bw'):\n",
    "    if filename.endswith(\".png\") or filename.endswith(\".jpg\") or filename.endswith(\".jpeg\"): \n",
    "        \n",
    "        pass\n",
    "    else:\n",
    "        continue\n",
    "    name=\"bw/\"\n",
    "    name+=filename\n",
    "    i=name\n",
    "\n",
    "\n",
    "\n",
    "\n",
    "\n",
    "    img = cv2.imread(i)\n",
    "    # plt.imshow(img) #ORIGINAL IMAGE\n",
    "    img1 = cv2.imread(i,cv2.IMREAD_GRAYSCALE)\n",
    "    average = img1.mean(axis=0).mean(axis=0)\n",
    "#     print(average)\n",
    "    # plt.imshow(img1) GRAYSCALED READ IMAGE\n",
    "    thresh = average\n",
    "    img_binary = cv2.threshold(img1, thresh, 255, cv2.THRESH_BINARY)[1]\n",
    "\n",
    "    cv2.imwrite('test_bw/test_b.png',img_binary) \n",
    "\n",
    "    img2=cv2.imread('test_bw/test_b.png')\n",
    "    # plt.imshow(img2) #BLACK AND WHITE\n",
    "    # print(img2)\n",
    "    unique_elements, counts_elements = np.unique(img2, return_counts=True)\n",
    "#     print(\"Frequency of unique values of the said array:\")\n",
    "#     print(np.asarray((unique_elements, counts_elements)))\n",
    "    d=dict(zip(unique_elements, counts_elements))\n",
    "#     print(d)\n",
    "\n",
    "    if(d[0]<d[255]):\n",
    "        img2 = util.invert(img2)\n",
    "    #     print(img2)\n",
    "    cv2.imwrite('test_bw/test_b.png',img2) \n",
    "   \n",
    "\n",
    "\n",
    "    gray2 = cv2.cvtColor(img2, cv2.COLOR_BGR2GRAY)\n",
    "\n",
    "    resized2 = cv2.resize(gray2, (28,28),interpolation = cv2.INTER_AREA)  \n",
    "    newimg2 = tf.keras.utils.normalize(resized2, axis=1)\n",
    "\n",
    "    newimg2 = np.array(newimg2).reshape(-1, IMG_SIZE, IMG_SIZE, 1)\n",
    "    predictions2 = model.predict(newimg2)\n",
    "#     plt.subplot(1,15,images.index(i)+1)\n",
    "    t=\"test_bw/\"\n",
    "    t+=filename\n",
    "    cv2.imwrite(t,img2) \n",
    "    plt.imshow(img2)\n",
    "\n",
    "    print(\"PREDICTION: \",np.argmax(predictions2),\"IMAGE NAME: \",i)\n",
    "    \n",
    "    # plt.imshow(resized2) #FINAL IMAGE\n",
    "\n",
    "\n"
   ]
  },
  {
   "cell_type": "code",
   "execution_count": null,
   "metadata": {},
   "outputs": [],
   "source": []
  },
  {
   "cell_type": "code",
   "execution_count": null,
   "metadata": {
    "scrolled": true
   },
   "outputs": [],
   "source": []
  },
  {
   "cell_type": "code",
   "execution_count": null,
   "metadata": {},
   "outputs": [],
   "source": []
  },
  {
   "cell_type": "code",
   "execution_count": null,
   "metadata": {},
   "outputs": [],
   "source": []
  }
 ],
 "metadata": {
  "kernelspec": {
   "display_name": "Python 3",
   "language": "python",
   "name": "python3"
  },
  "language_info": {
   "codemirror_mode": {
    "name": "ipython",
    "version": 3
   },
   "file_extension": ".py",
   "mimetype": "text/x-python",
   "name": "python",
   "nbconvert_exporter": "python",
   "pygments_lexer": "ipython3",
   "version": "3.8.3"
  }
 },
 "nbformat": 4,
 "nbformat_minor": 4
}
